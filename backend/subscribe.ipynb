{
 "cells": [
  {
   "cell_type": "code",
   "execution_count": 54,
   "metadata": {},
   "outputs": [],
   "source": [
    "import os\n",
    "import pandas as pd\n",
    "from futu import *\n",
    "from matplotlib import pyplot as plt\n",
    "import hashlib\n",
    "import base64\n",
    "import hmac\n",
    "import json\n",
    "import requests\n",
    "from requests_toolbelt.multipart.encoder import MultipartEncoder\n",
    "import time"
   ]
  },
  {
   "cell_type": "code",
   "execution_count": 2,
   "metadata": {},
   "outputs": [
    {
     "name": "stdout",
     "output_type": "stream",
     "text": [
      "\u001b[0;30m2024-10-23 14:17:34,110 | 33284 | [open_context_base.py] _send_init_connect_sync:311: InitConnect ok: conn_id=1, host=127.0.0.1, port=11111, user_id=31759416\u001b[0m\n"
     ]
    }
   ],
   "source": [
    "quote_ctx = OpenQuoteContext(host='127.0.0.1', port=11111)"
   ]
  },
  {
   "cell_type": "code",
   "execution_count": 3,
   "metadata": {},
   "outputs": [],
   "source": [
    "target_code = ['SH.688385', 'SH.688318', 'SH.688041']"
   ]
  },
  {
   "cell_type": "code",
   "execution_count": 78,
   "metadata": {},
   "outputs": [
    {
     "name": "stdout",
     "output_type": "stream",
     "text": [
      "['SH.688385', 'SH.688318', 'SH.688041']\n"
     ]
    }
   ],
   "source": [
    "target_code = {'SH.688385': '复旦微电',\n",
    "                'SH.688318': '财富趋势',\n",
    "                'SH.688041': '海光信息'}\n",
    "print((list(target_code.keys())))"
   ]
  },
  {
   "cell_type": "code",
   "execution_count": null,
   "metadata": {},
   "outputs": [],
   "source": [
    "# ret, data, page_req_key = quote_ctx.request_history_kline('SH.688385', start='2022-09-11', end='2019-09-18', max_count=5, ktype=KLType.K_15M)  # 每页5个，请求第一页"
   ]
  },
  {
   "cell_type": "code",
   "execution_count": 5,
   "metadata": {},
   "outputs": [],
   "source": [
    "class OrderBookTest(OrderBookHandlerBase):\n",
    "    def on_recv_rsp(self, rsp_pb):\n",
    "        ret_code, data = super(OrderBookTest,self).on_recv_rsp(rsp_pb)\n",
    "        if ret_code != RET_OK:\n",
    "            print(\"OrderBookTest: error, msg: %s\" % data)\n",
    "            return RET_ERROR, data\n",
    "        print(\"OrderBookTest \", data) # OrderBookTest 自己的处理逻辑\n",
    "        return RET_OK, data"
   ]
  },
  {
   "cell_type": "code",
   "execution_count": 6,
   "metadata": {},
   "outputs": [
    {
     "name": "stdout",
     "output_type": "stream",
     "text": [
      "\u001b[0;30m2024-10-23 14:40:52,335 | 33284 | [open_context_base.py] _send_init_connect_sync:311: InitConnect ok: conn_id=2, host=127.0.0.1, port=11111, user_id=31759416\u001b[0m\n"
     ]
    },
    {
     "data": {
      "text/plain": [
       "0"
      ]
     },
     "execution_count": 6,
     "metadata": {},
     "output_type": "execute_result"
    }
   ],
   "source": [
    "quote_ctx = OpenQuoteContext(host='127.0.0.1', port=11111)\n",
    "handler = OrderBookTest()\n",
    "quote_ctx.set_handler(handler)  # 设置实时摆盘回调"
   ]
  },
  {
   "cell_type": "code",
   "execution_count": 7,
   "metadata": {},
   "outputs": [
    {
     "data": {
      "text/plain": [
       "(0, None)"
      ]
     },
     "execution_count": 7,
     "metadata": {},
     "output_type": "execute_result"
    }
   ],
   "source": [
    "quote_ctx.subscribe(['SH.688385'], [SubType.K_15M])"
   ]
  },
  {
   "cell_type": "code",
   "execution_count": 10,
   "metadata": {},
   "outputs": [
    {
     "name": "stdout",
     "output_type": "stream",
     "text": [
      "\u001b[0;30m2024-10-23 14:46:02,627 | 33284 | [open_context_base.py] on_disconnect:383: Disconnected: conn_id=2\u001b[0m\n"
     ]
    }
   ],
   "source": [
    "quote_ctx.close()"
   ]
  },
  {
   "cell_type": "code",
   "execution_count": 11,
   "metadata": {},
   "outputs": [
    {
     "name": "stdout",
     "output_type": "stream",
     "text": [
      "\u001b[0;30m2024-10-23 14:47:37,324 | 33284 | [open_context_base.py] _send_init_connect_sync:311: InitConnect ok: conn_id=3, host=127.0.0.1, port=11111, user_id=31759416\u001b[0m\n",
      "None\n",
      "CurKlineTest          code  name             time_key   open  close   high   low  volume  \\\n",
      "0  SH.688385  复旦微电  2024-10-23 14:48:00  46.02   46.0  46.04  46.0   86180   \n",
      "\n",
      "    turnover k_type  last_close  \n",
      "0  3964985.0   K_1M         0.0  \n",
      "CurKlineTest          code  name             time_key   open  close   high   low  volume  \\\n",
      "0  SH.688385  复旦微电  2024-10-23 14:48:00  46.02  46.01  46.04  46.0   96062   \n",
      "\n",
      "    turnover k_type  last_close  \n",
      "0  4419549.0   K_1M         0.0  \n",
      "CurKlineTest          code  name             time_key   open  close   high   low  volume  \\\n",
      "0  SH.688385  复旦微电  2024-10-23 14:48:00  46.02   46.0  46.04  46.0  100122   \n",
      "\n",
      "    turnover k_type  last_close  \n",
      "0  4606342.0   K_1M         0.0  \n",
      "CurKlineTest          code  name             time_key   open  close   high   low  volume  \\\n",
      "0  SH.688385  复旦微电  2024-10-23 14:48:00  46.02   46.0  46.04  46.0  100322   \n",
      "\n",
      "    turnover k_type  last_close  \n",
      "0  4615542.0   K_1M         0.0  \n",
      "CurKlineTest          code  name             time_key   open  close   high   low  volume  \\\n",
      "0  SH.688385  复旦微电  2024-10-23 14:48:00  46.02   46.0  46.04  46.0  105380   \n",
      "\n",
      "    turnover k_type  last_close  \n",
      "0  4848235.0   K_1M         0.0  \n",
      "CurKlineTest          code  name             time_key   open  close   high   low  volume  \\\n",
      "0  SH.688385  复旦微电  2024-10-23 14:48:00  46.02   46.0  46.04  46.0  105580   \n",
      "\n",
      "    turnover k_type  last_close  \n",
      "0  4857435.0   K_1M         0.0  \n",
      "\u001b[0;30m2024-10-23 14:47:52,332 | 33284 | [open_context_base.py] on_disconnect:383: Disconnected: conn_id=3\u001b[0m\n"
     ]
    }
   ],
   "source": [
    "class CurKlineTest(CurKlineHandlerBase):\n",
    "    def on_recv_rsp(self, rsp_pb):\n",
    "        ret_code, data = super(CurKlineTest,self).on_recv_rsp(rsp_pb)\n",
    "        if ret_code != RET_OK:\n",
    "            print(\"CurKlineTest: error, msg: %s\" % data)\n",
    "            return RET_ERROR, data\n",
    "        print(\"CurKlineTest \", data) # CurKlineTest 自己的处理逻辑\n",
    "        return RET_OK, data\n",
    "quote_ctx = OpenQuoteContext(host='127.0.0.1', port=11111)\n",
    "handler = CurKlineTest()\n",
    "quote_ctx.set_handler(handler)  # 设置实时K线回调\n",
    "ret, data = quote_ctx.subscribe(['SH.688385'], [SubType.K_1M])   # 订阅 K 线数据类型，OpenD 开始持续收到服务器的推送\n",
    "if ret == RET_OK:\n",
    "    print(data)\n",
    "else:\n",
    "    print('error:', data)\n",
    "time.sleep(15)  # 设置脚本接收 OpenD 的推送持续时间为15秒\n",
    "quote_ctx.close()   # 关闭当条连接，OpenD 会在1分钟后自动取消相应股票相应类型的订阅    "
   ]
  },
  {
   "cell_type": "code",
   "execution_count": 15,
   "metadata": {},
   "outputs": [],
   "source": [
    "import numpy as np\n",
    "def calculate_kdj(high_prices, low_prices, close_prices, n=9, m1=3, m2=3):\n",
    "    \"\"\"\n",
    "    计算KDJ指标\n",
    "\n",
    "    参数:\n",
    "    high_prices: 周期内最高价列表\n",
    "    low_prices: 周期内最低价列表\n",
    "    close_prices: 收盘价列表\n",
    "    n: RSV的计算周期，默认9\n",
    "    m1: K值的平滑周期，默认3\n",
    "    m2: D值的平滑周期，默认3\n",
    "\n",
    "    返回:\n",
    "    k_list: K值列表\n",
    "    d_list: D值列表\n",
    "    j_list: J值列表\n",
    "    \"\"\"\n",
    "    length = len(close_prices)\n",
    "    k_list = []\n",
    "    d_list = []\n",
    "    j_list = []\n",
    "    for i in range(length):\n",
    "        if i < n - 1:\n",
    "            # 在计算周期未满时，先添加None值\n",
    "            k_list.append(None)\n",
    "            d_list.append(None)\n",
    "            j_list.append(None)\n",
    "            continue\n",
    "        high_max = np.max(high_prices[i - n + 1:i + 1])\n",
    "        low_min = np.min(low_prices[i - n + 1:i + 1])\n",
    "        rsv = ((close_prices[i] - low_min) / (high_max - low_min)) * 100\n",
    "        if i == n - 1:\n",
    "            k = rsv\n",
    "            d = rsv\n",
    "        else:\n",
    "            k = ((m1 - 1) * k_list[i - 1] + rsv) / m1\n",
    "            d = ((m2 - 1) * d_list[i - 1] + k) / m2\n",
    "        j = 3 * k - 2 * d\n",
    "        k_list.append(k)\n",
    "        d_list.append(d)\n",
    "        j_list.append(j)\n",
    "    return k_list, d_list, j_list"
   ]
  },
  {
   "cell_type": "code",
   "execution_count": 70,
   "metadata": {},
   "outputs": [
    {
     "name": "stdout",
     "output_type": "stream",
     "text": [
      "\u001b[0;30m2024-10-24 17:25:02,599 | 33284 | [open_context_base.py] _send_init_connect_sync:311: InitConnect ok: conn_id=575, host=127.0.0.1, port=11111, user_id=31759416\u001b[0m\n",
      "<class 'pandas.core.frame.DataFrame'>\n",
      "K值: [None, None, None, None, 26.470588235294084, 26.67483660130719, 24.72766884531585, 32.926554004985306, 37.266351318638876, 39.033423401615195, 43.93611446728994, 48.111604656197805, 36.46036801641233, 27.969915673945255, 29.269321072007646, 26.759257526266193, 25.085881829105222, 23.97029803099777, 29.980198687331903, 37.44711658520524]\n",
      "D值: [None, None, None, None, 26.470588235294084, 26.538671023965122, 25.93500363108203, 28.265520422383123, 31.265797387801708, 33.85500605907287, 37.21537552847856, 40.847451904384975, 39.385090608394094, 35.58003229691115, 33.47646188860998, 31.23739376782872, 29.18688978825422, 27.448025869168735, 28.292083475223123, 31.343761178550494]\n",
      "J值: [None, None, None, None, 26.47058823529408, 26.94716775599133, 22.312999273783497, 42.24862117018967, 49.26745918031322, 49.390258086699845, 57.3775923449127, 62.63991015982346, 30.610922832448807, 12.749682428013472, 20.855039438802976, 17.802985043141135, 16.88386591080723, 17.014842354655848, 33.35642911154946, 49.65382739851472]\n",
      "\u001b[0;30m2024-10-24 17:25:02,768 | 33284 | [open_context_base.py] on_disconnect:383: Disconnected: conn_id=575\u001b[0m\n"
     ]
    }
   ],
   "source": [
    "quote_ctx = OpenQuoteContext(host='127.0.0.1', port=11111)\n",
    "ret_sub, err_message = quote_ctx.subscribe(['SH.688385'], [SubType.K_15M], subscribe_push=False)\n",
    "# 先订阅 K 线类型。订阅成功后 OpenD 将持续收到服务器的推送，False 代表暂时不需要推送给脚本\n",
    "if ret_sub == RET_OK:  # 订阅成功\n",
    "    ret, data = quote_ctx.get_cur_kline('SH.688385', 20, KLType.K_15M, AuType.QFQ) \n",
    "    if ret == RET_OK:\n",
    "        high_list = data['high'].values.tolist()\n",
    "        low_list = data['low'].values.tolist()\n",
    "        close_list = data['close'].values.tolist()\n",
    "        print(type(data))\n",
    "        k_list, d_list, j_list = calculate_kdj(high_list, low_list, close_list, n=5, m1=3, m2=3)\n",
    "        print(\"K值:\", k_list)\n",
    "        print(\"D值:\", d_list)\n",
    "        print(\"J值:\", j_list)\n",
    "    else:\n",
    "        print('error:', data)\n",
    "else:\n",
    "    print('subscription failed', err_message)\n",
    "quote_ctx.close()  # 关闭当条连接，OpenD 会在1分钟后自动取消相应股票相应类型的订阅"
   ]
  },
  {
   "cell_type": "code",
   "execution_count": 71,
   "metadata": {},
   "outputs": [],
   "source": [
    "res = pd.DataFrame({'k': k_list, 'j': j_list, 'd': d_list, 'price': close_list})"
   ]
  },
  {
   "cell_type": "code",
   "execution_count": 72,
   "metadata": {},
   "outputs": [
    {
     "data": {
      "text/html": [
       "<div>\n",
       "<style scoped>\n",
       "    .dataframe tbody tr th:only-of-type {\n",
       "        vertical-align: middle;\n",
       "    }\n",
       "\n",
       "    .dataframe tbody tr th {\n",
       "        vertical-align: top;\n",
       "    }\n",
       "\n",
       "    .dataframe thead th {\n",
       "        text-align: right;\n",
       "    }\n",
       "</style>\n",
       "<table border=\"1\" class=\"dataframe\">\n",
       "  <thead>\n",
       "    <tr style=\"text-align: right;\">\n",
       "      <th></th>\n",
       "      <th>k</th>\n",
       "      <th>j</th>\n",
       "      <th>d</th>\n",
       "      <th>price</th>\n",
       "    </tr>\n",
       "  </thead>\n",
       "  <tbody>\n",
       "    <tr>\n",
       "      <th>0</th>\n",
       "      <td>NaN</td>\n",
       "      <td>NaN</td>\n",
       "      <td>NaN</td>\n",
       "      <td>46.23</td>\n",
       "    </tr>\n",
       "    <tr>\n",
       "      <th>1</th>\n",
       "      <td>NaN</td>\n",
       "      <td>NaN</td>\n",
       "      <td>NaN</td>\n",
       "      <td>46.49</td>\n",
       "    </tr>\n",
       "    <tr>\n",
       "      <th>2</th>\n",
       "      <td>NaN</td>\n",
       "      <td>NaN</td>\n",
       "      <td>NaN</td>\n",
       "      <td>46.05</td>\n",
       "    </tr>\n",
       "    <tr>\n",
       "      <th>3</th>\n",
       "      <td>NaN</td>\n",
       "      <td>NaN</td>\n",
       "      <td>NaN</td>\n",
       "      <td>46.16</td>\n",
       "    </tr>\n",
       "    <tr>\n",
       "      <th>4</th>\n",
       "      <td>26.470588</td>\n",
       "      <td>26.470588</td>\n",
       "      <td>26.470588</td>\n",
       "      <td>45.76</td>\n",
       "    </tr>\n",
       "    <tr>\n",
       "      <th>5</th>\n",
       "      <td>26.674837</td>\n",
       "      <td>26.947168</td>\n",
       "      <td>26.538671</td>\n",
       "      <td>45.71</td>\n",
       "    </tr>\n",
       "    <tr>\n",
       "      <th>6</th>\n",
       "      <td>24.727669</td>\n",
       "      <td>22.312999</td>\n",
       "      <td>25.935004</td>\n",
       "      <td>45.62</td>\n",
       "    </tr>\n",
       "    <tr>\n",
       "      <th>7</th>\n",
       "      <td>32.926554</td>\n",
       "      <td>42.248621</td>\n",
       "      <td>28.265520</td>\n",
       "      <td>46.05</td>\n",
       "    </tr>\n",
       "    <tr>\n",
       "      <th>8</th>\n",
       "      <td>37.266351</td>\n",
       "      <td>49.267459</td>\n",
       "      <td>31.265797</td>\n",
       "      <td>46.00</td>\n",
       "    </tr>\n",
       "    <tr>\n",
       "      <th>9</th>\n",
       "      <td>39.033423</td>\n",
       "      <td>49.390258</td>\n",
       "      <td>33.855006</td>\n",
       "      <td>45.95</td>\n",
       "    </tr>\n",
       "    <tr>\n",
       "      <th>10</th>\n",
       "      <td>43.936114</td>\n",
       "      <td>57.377592</td>\n",
       "      <td>37.215376</td>\n",
       "      <td>46.12</td>\n",
       "    </tr>\n",
       "    <tr>\n",
       "      <th>11</th>\n",
       "      <td>48.111605</td>\n",
       "      <td>62.639910</td>\n",
       "      <td>40.847452</td>\n",
       "      <td>46.16</td>\n",
       "    </tr>\n",
       "    <tr>\n",
       "      <th>12</th>\n",
       "      <td>36.460368</td>\n",
       "      <td>30.610923</td>\n",
       "      <td>39.385091</td>\n",
       "      <td>45.80</td>\n",
       "    </tr>\n",
       "    <tr>\n",
       "      <th>13</th>\n",
       "      <td>27.969916</td>\n",
       "      <td>12.749682</td>\n",
       "      <td>35.580032</td>\n",
       "      <td>45.65</td>\n",
       "    </tr>\n",
       "    <tr>\n",
       "      <th>14</th>\n",
       "      <td>29.269321</td>\n",
       "      <td>20.855039</td>\n",
       "      <td>33.476462</td>\n",
       "      <td>45.84</td>\n",
       "    </tr>\n",
       "    <tr>\n",
       "      <th>15</th>\n",
       "      <td>26.759258</td>\n",
       "      <td>17.802985</td>\n",
       "      <td>31.237394</td>\n",
       "      <td>45.70</td>\n",
       "    </tr>\n",
       "    <tr>\n",
       "      <th>16</th>\n",
       "      <td>25.085882</td>\n",
       "      <td>16.883866</td>\n",
       "      <td>29.186890</td>\n",
       "      <td>45.70</td>\n",
       "    </tr>\n",
       "    <tr>\n",
       "      <th>17</th>\n",
       "      <td>23.970298</td>\n",
       "      <td>17.014842</td>\n",
       "      <td>27.448026</td>\n",
       "      <td>45.65</td>\n",
       "    </tr>\n",
       "    <tr>\n",
       "      <th>18</th>\n",
       "      <td>29.980199</td>\n",
       "      <td>33.356429</td>\n",
       "      <td>28.292083</td>\n",
       "      <td>45.72</td>\n",
       "    </tr>\n",
       "    <tr>\n",
       "      <th>19</th>\n",
       "      <td>37.447117</td>\n",
       "      <td>49.653827</td>\n",
       "      <td>31.343761</td>\n",
       "      <td>45.73</td>\n",
       "    </tr>\n",
       "  </tbody>\n",
       "</table>\n",
       "</div>"
      ],
      "text/plain": [
       "            k          j          d  price\n",
       "0         NaN        NaN        NaN  46.23\n",
       "1         NaN        NaN        NaN  46.49\n",
       "2         NaN        NaN        NaN  46.05\n",
       "3         NaN        NaN        NaN  46.16\n",
       "4   26.470588  26.470588  26.470588  45.76\n",
       "5   26.674837  26.947168  26.538671  45.71\n",
       "6   24.727669  22.312999  25.935004  45.62\n",
       "7   32.926554  42.248621  28.265520  46.05\n",
       "8   37.266351  49.267459  31.265797  46.00\n",
       "9   39.033423  49.390258  33.855006  45.95\n",
       "10  43.936114  57.377592  37.215376  46.12\n",
       "11  48.111605  62.639910  40.847452  46.16\n",
       "12  36.460368  30.610923  39.385091  45.80\n",
       "13  27.969916  12.749682  35.580032  45.65\n",
       "14  29.269321  20.855039  33.476462  45.84\n",
       "15  26.759258  17.802985  31.237394  45.70\n",
       "16  25.085882  16.883866  29.186890  45.70\n",
       "17  23.970298  17.014842  27.448026  45.65\n",
       "18  29.980199  33.356429  28.292083  45.72\n",
       "19  37.447117  49.653827  31.343761  45.73"
      ]
     },
     "execution_count": 72,
     "metadata": {},
     "output_type": "execute_result"
    }
   ],
   "source": [
    "res"
   ]
  },
  {
   "cell_type": "code",
   "execution_count": 73,
   "metadata": {},
   "outputs": [],
   "source": [
    "res = res.dropna()"
   ]
  },
  {
   "cell_type": "code",
   "execution_count": 74,
   "metadata": {},
   "outputs": [
    {
     "name": "stderr",
     "output_type": "stream",
     "text": [
      "C:\\Users\\liang.dong\\AppData\\Local\\Temp\\ipykernel_33284\\129548968.py:1: SettingWithCopyWarning: \n",
      "A value is trying to be set on a copy of a slice from a DataFrame.\n",
      "Try using .loc[row_indexer,col_indexer] = value instead\n",
      "\n",
      "See the caveats in the documentation: https://pandas.pydata.org/pandas-docs/stable/user_guide/indexing.html#returning-a-view-versus-a-copy\n",
      "  res['kdj_signal'] = res['j'].diff()\n",
      "C:\\Users\\liang.dong\\AppData\\Local\\Temp\\ipykernel_33284\\129548968.py:2: SettingWithCopyWarning: \n",
      "A value is trying to be set on a copy of a slice from a DataFrame.\n",
      "Try using .loc[row_indexer,col_indexer] = value instead\n",
      "\n",
      "See the caveats in the documentation: https://pandas.pydata.org/pandas-docs/stable/user_guide/indexing.html#returning-a-view-versus-a-copy\n",
      "  res['kdj_signal'] = res['kdj_signal'].apply(lambda x: 'BULL' if x > 0 else 'BEAR')\n"
     ]
    }
   ],
   "source": [
    "res['j_diff'] = res['j'].diff()\n",
    "res['j_diff'] = res['j_diff'].apply(lambda x: 1 if x > 0 else 0)\n",
    "res['close_diff'] = res['close'].diff()\n",
    "res['close_diff'] = res['close_diff'].apply(lambda x: 1 if x > 0 else 0)"
   ]
  },
  {
   "cell_type": "code",
   "execution_count": 75,
   "metadata": {},
   "outputs": [
    {
     "data": {
      "text/html": [
       "<div>\n",
       "<style scoped>\n",
       "    .dataframe tbody tr th:only-of-type {\n",
       "        vertical-align: middle;\n",
       "    }\n",
       "\n",
       "    .dataframe tbody tr th {\n",
       "        vertical-align: top;\n",
       "    }\n",
       "\n",
       "    .dataframe thead th {\n",
       "        text-align: right;\n",
       "    }\n",
       "</style>\n",
       "<table border=\"1\" class=\"dataframe\">\n",
       "  <thead>\n",
       "    <tr style=\"text-align: right;\">\n",
       "      <th></th>\n",
       "      <th>k</th>\n",
       "      <th>j</th>\n",
       "      <th>d</th>\n",
       "      <th>price</th>\n",
       "      <th>kdj_signal</th>\n",
       "    </tr>\n",
       "  </thead>\n",
       "  <tbody>\n",
       "    <tr>\n",
       "      <th>4</th>\n",
       "      <td>26.470588</td>\n",
       "      <td>26.470588</td>\n",
       "      <td>26.470588</td>\n",
       "      <td>45.76</td>\n",
       "      <td>BEAR</td>\n",
       "    </tr>\n",
       "    <tr>\n",
       "      <th>5</th>\n",
       "      <td>26.674837</td>\n",
       "      <td>26.947168</td>\n",
       "      <td>26.538671</td>\n",
       "      <td>45.71</td>\n",
       "      <td>BULL</td>\n",
       "    </tr>\n",
       "    <tr>\n",
       "      <th>6</th>\n",
       "      <td>24.727669</td>\n",
       "      <td>22.312999</td>\n",
       "      <td>25.935004</td>\n",
       "      <td>45.62</td>\n",
       "      <td>BEAR</td>\n",
       "    </tr>\n",
       "    <tr>\n",
       "      <th>7</th>\n",
       "      <td>32.926554</td>\n",
       "      <td>42.248621</td>\n",
       "      <td>28.265520</td>\n",
       "      <td>46.05</td>\n",
       "      <td>BULL</td>\n",
       "    </tr>\n",
       "    <tr>\n",
       "      <th>8</th>\n",
       "      <td>37.266351</td>\n",
       "      <td>49.267459</td>\n",
       "      <td>31.265797</td>\n",
       "      <td>46.00</td>\n",
       "      <td>BULL</td>\n",
       "    </tr>\n",
       "    <tr>\n",
       "      <th>9</th>\n",
       "      <td>39.033423</td>\n",
       "      <td>49.390258</td>\n",
       "      <td>33.855006</td>\n",
       "      <td>45.95</td>\n",
       "      <td>BULL</td>\n",
       "    </tr>\n",
       "    <tr>\n",
       "      <th>10</th>\n",
       "      <td>43.936114</td>\n",
       "      <td>57.377592</td>\n",
       "      <td>37.215376</td>\n",
       "      <td>46.12</td>\n",
       "      <td>BULL</td>\n",
       "    </tr>\n",
       "    <tr>\n",
       "      <th>11</th>\n",
       "      <td>48.111605</td>\n",
       "      <td>62.639910</td>\n",
       "      <td>40.847452</td>\n",
       "      <td>46.16</td>\n",
       "      <td>BULL</td>\n",
       "    </tr>\n",
       "    <tr>\n",
       "      <th>12</th>\n",
       "      <td>36.460368</td>\n",
       "      <td>30.610923</td>\n",
       "      <td>39.385091</td>\n",
       "      <td>45.80</td>\n",
       "      <td>BEAR</td>\n",
       "    </tr>\n",
       "    <tr>\n",
       "      <th>13</th>\n",
       "      <td>27.969916</td>\n",
       "      <td>12.749682</td>\n",
       "      <td>35.580032</td>\n",
       "      <td>45.65</td>\n",
       "      <td>BEAR</td>\n",
       "    </tr>\n",
       "    <tr>\n",
       "      <th>14</th>\n",
       "      <td>29.269321</td>\n",
       "      <td>20.855039</td>\n",
       "      <td>33.476462</td>\n",
       "      <td>45.84</td>\n",
       "      <td>BULL</td>\n",
       "    </tr>\n",
       "    <tr>\n",
       "      <th>15</th>\n",
       "      <td>26.759258</td>\n",
       "      <td>17.802985</td>\n",
       "      <td>31.237394</td>\n",
       "      <td>45.70</td>\n",
       "      <td>BEAR</td>\n",
       "    </tr>\n",
       "    <tr>\n",
       "      <th>16</th>\n",
       "      <td>25.085882</td>\n",
       "      <td>16.883866</td>\n",
       "      <td>29.186890</td>\n",
       "      <td>45.70</td>\n",
       "      <td>BEAR</td>\n",
       "    </tr>\n",
       "    <tr>\n",
       "      <th>17</th>\n",
       "      <td>23.970298</td>\n",
       "      <td>17.014842</td>\n",
       "      <td>27.448026</td>\n",
       "      <td>45.65</td>\n",
       "      <td>BULL</td>\n",
       "    </tr>\n",
       "    <tr>\n",
       "      <th>18</th>\n",
       "      <td>29.980199</td>\n",
       "      <td>33.356429</td>\n",
       "      <td>28.292083</td>\n",
       "      <td>45.72</td>\n",
       "      <td>BULL</td>\n",
       "    </tr>\n",
       "    <tr>\n",
       "      <th>19</th>\n",
       "      <td>37.447117</td>\n",
       "      <td>49.653827</td>\n",
       "      <td>31.343761</td>\n",
       "      <td>45.73</td>\n",
       "      <td>BULL</td>\n",
       "    </tr>\n",
       "  </tbody>\n",
       "</table>\n",
       "</div>"
      ],
      "text/plain": [
       "            k          j          d  price kdj_signal\n",
       "4   26.470588  26.470588  26.470588  45.76       BEAR\n",
       "5   26.674837  26.947168  26.538671  45.71       BULL\n",
       "6   24.727669  22.312999  25.935004  45.62       BEAR\n",
       "7   32.926554  42.248621  28.265520  46.05       BULL\n",
       "8   37.266351  49.267459  31.265797  46.00       BULL\n",
       "9   39.033423  49.390258  33.855006  45.95       BULL\n",
       "10  43.936114  57.377592  37.215376  46.12       BULL\n",
       "11  48.111605  62.639910  40.847452  46.16       BULL\n",
       "12  36.460368  30.610923  39.385091  45.80       BEAR\n",
       "13  27.969916  12.749682  35.580032  45.65       BEAR\n",
       "14  29.269321  20.855039  33.476462  45.84       BULL\n",
       "15  26.759258  17.802985  31.237394  45.70       BEAR\n",
       "16  25.085882  16.883866  29.186890  45.70       BEAR\n",
       "17  23.970298  17.014842  27.448026  45.65       BULL\n",
       "18  29.980199  33.356429  28.292083  45.72       BULL\n",
       "19  37.447117  49.653827  31.343761  45.73       BULL"
      ]
     },
     "execution_count": 75,
     "metadata": {},
     "output_type": "execute_result"
    }
   ],
   "source": [
    "res"
   ]
  },
  {
   "cell_type": "code",
   "execution_count": 56,
   "metadata": {},
   "outputs": [
    {
     "data": {
      "image/png": "[encoded data removed]",
      "text/plain": [
       "<Figure size 1000x500 with 1 Axes>"
      ]
     },
     "metadata": {},
     "output_type": "display_data"
    }
   ],
   "source": [
    "plt.figure(figsize=(10,5))\n",
    "plt.plot(res['k'], marker='x', markersize=3, color='red')\n",
    "plt.plot(res['d'], marker='o', markersize=3, color='green')\n",
    "plt.plot(res['j'], marker='o', markersize=3, color='black')\n",
    "# plt.plot(res['price'], marker='o', markersize=3, color='b')\n",
    "plt.savefig('test.png')\n",
    "plt.show()"
   ]
  },
  {
   "cell_type": "code",
   "execution_count": 51,
   "metadata": {},
   "outputs": [],
   "source": [
    "def gen_sign(timestamp, secret):\n",
    "    # 拼接timestamp和secret\n",
    "    string_to_sign = '{}\\n{}'.format(timestamp, secret)\n",
    "    hmac_code = hmac.new(string_to_sign.encode(\"utf-8\"), digestmod=hashlib.sha256).digest()\n",
    "    # 对结果进行base64处理\n",
    "    sign = base64.b64encode(hmac_code).decode('utf-8')\n",
    "    return sign"
   ]
  },
  {
   "cell_type": "markdown",
   "metadata": {},
   "source": [
    "## 上传图片"
   ]
  },
  {
   "cell_type": "code",
   "execution_count": 79,
   "metadata": {},
   "outputs": [],
   "source": [
    "pic_url = \"https://open.feishu.cn/open-apis/im/v1/images\"\n",
    "app_id = \"cli_a238041d5339100d\"\n",
    "app_secret = \"9MpYq5u3nC06pb4qNXX5QdErtK1fSOkE\""
   ]
  },
  {
   "cell_type": "code",
   "execution_count": 80,
   "metadata": {},
   "outputs": [],
   "source": [
    "def get_tenant_access_token(app_id, app_secret):\n",
    "    url = \"https://open.feishu.cn/open-apis/auth/v3/tenant_access_token/internal\"\n",
    "    headers = {\n",
    "        \"Content-Type\": \"application/json; charset=utf-8\"\n",
    "    }\n",
    "    payload = {\n",
    "        \"app_id\": app_id,\n",
    "        \"app_secret\": app_secret\n",
    "    }\n",
    "    response = requests.post(url, headers=headers, data=json.dumps(payload))\n",
    "    return response.json().get(\"tenant_access_token\")\n",
    "\n",
    "def upload_image(image_path, access_token):\n",
    "    url = \"https://open.feishu.cn/open-apis/im/v1/images\"\n",
    "    form = MultipartEncoder(\n",
    "        fields={\n",
    "            'image_type': 'message',\n",
    "            'image': ('image.jpg', open(image_path, 'rb'), 'image/jpeg')\n",
    "        }\n",
    "    )\n",
    "    headers = {\n",
    "        'Authorization': f'Bearer {access_token}',\n",
    "        'Content-Type': form.content_type\n",
    "    }\n",
    "    response = requests.post(url, headers=headers, data=form)\n",
    "    return response.json()"
   ]
  },
  {
   "cell_type": "code",
   "execution_count": 87,
   "metadata": {},
   "outputs": [
    {
     "name": "stdout",
     "output_type": "stream",
     "text": [
      "{'code': 0, 'data': {'image_key': 'img_v3_02fv_adf896dc-d420-403b-96ea-a416386c697g'}, 'msg': 'success'}\n"
     ]
    }
   ],
   "source": [
    "image_path = '../sechdule_task/static/test.png'\n",
    "access_token = get_tenant_access_token(app_id, app_secret)\n",
    "response = upload_image(image_path, access_token)\n",
    "print(response)"
   ]
  },
  {
   "cell_type": "code",
   "execution_count": 88,
   "metadata": {},
   "outputs": [],
   "source": [
    "pic_id = response['data']['image_key']"
   ]
  },
  {
   "cell_type": "code",
   "execution_count": 62,
   "metadata": {},
   "outputs": [],
   "source": [
    "receive_id = \"ou_5117ddde720ef1b546f1ceacab6a945b\""
   ]
  },
  {
   "cell_type": "code",
   "execution_count": 66,
   "metadata": {},
   "outputs": [],
   "source": [
    "def send_message_card(tenant_access_token, receive_id):\n",
    "    url = \"https://open.feishu.cn/open-apis/im/v1/messages?receive_id_type=open_id\"\n",
    "    headers = {\n",
    "        \"Authorization\": f\"Bearer {tenant_access_token}\",\n",
    "        \"Content-Type\": \"application/json; charset=utf-8\"\n",
    "    }\n",
    "    payload = {\n",
    "        \"receive_id\": receive_id,\n",
    "        \"msg_type\": \"interactive\",\n",
    "        \"content\": json.dumps({\n",
    "            \"type\": \"template\",\n",
    "            \"data\": {\n",
    "                \"template_id\": \"AAqDi1LQLLwYn\",\n",
    "                \"template_version_name\": \"1.0.1\",\n",
    "                \"template_variable\": {\n",
    "                    \"title\": \"测试标题\",\n",
    "                    \"content\": \"测试内容\",\n",
    "                    \"pic\": pic_id,\n",
    "                }\n",
    "            }\n",
    "        })\n",
    "    }\n",
    "    response = requests.post(url, headers=headers, data=json.dumps(payload))\n",
    "    return response.json()"
   ]
  },
  {
   "cell_type": "code",
   "execution_count": 68,
   "metadata": {},
   "outputs": [
    {
     "name": "stdout",
     "output_type": "stream",
     "text": [
      "{'code': 0, 'data': {'body': {'content': '{\"title\":\"测试标题\",\"elements\":[[{\"tag\":\"text\",\"text\":\"测试内容\"}],[{\"tag\":\"img\",\"image_key\":\"img_v3_02fv_fee3a806-8c54-46f4-9a60-e45d424f0e8g\"}]]}'}, 'chat_id': 'oc_1604799fa91041ddd29b87c183b29aaa', 'create_time': '1729753411904', 'deleted': False, 'message_id': 'om_a56800863bcd0b9057efd13cfc1a44f1', 'msg_type': 'interactive', 'sender': {'id': 'cli_a238041d5339100d', 'id_type': 'app_id', 'sender_type': 'app', 'tenant_key': '1163aba891ce5740'}, 'update_time': '1729753411904', 'updated': False}, 'msg': 'success'}\n"
     ]
    }
   ],
   "source": [
    "response = send_message_card(get_tenant_access_token(app_id, app_secret), receive_id)\n",
    "print(response)"
   ]
  },
  {
   "cell_type": "code",
   "execution_count": null,
   "metadata": {},
   "outputs": [],
   "source": []
  }
 ],
 "metadata": {
  "kernelspec": {
   "display_name": "base",
   "language": "python",
   "name": "python3"
  },
  "language_info": {
   "codemirror_mode": {
    "name": "ipython",
    "version": 3
   },
   "file_extension": ".py",
   "mimetype": "text/x-python",
   "name": "python",
   "nbconvert_exporter": "python",
   "pygments_lexer": "ipython3",
   "version": "3.11.7"
  }
 },
 "nbformat": 4,
 "nbformat_minor": 2
}
